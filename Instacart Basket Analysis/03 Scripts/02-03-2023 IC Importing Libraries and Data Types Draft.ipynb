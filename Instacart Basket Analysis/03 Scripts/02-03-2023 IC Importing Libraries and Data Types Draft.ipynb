{
 "cells": [
  {
   "cell_type": "markdown",
   "id": "7a738a15",
   "metadata": {},
   "source": [
    "# 01. Importing Libraries"
   ]
  },
  {
   "cell_type": "code",
   "execution_count": null,
   "id": "f75c56e4",
   "metadata": {},
   "outputs": [],
   "source": [
    "# Importing Libraries"
   ]
  },
  {
   "cell_type": "code",
   "execution_count": 1,
   "id": "cfb47d4e",
   "metadata": {},
   "outputs": [],
   "source": [
    "import pandas as pd\n",
    "import numpy as np\n",
    "import os"
   ]
  },
  {
   "cell_type": "markdown",
   "id": "f3d8f3a1",
   "metadata": {},
   "source": [
    "# 02. Python Data Types"
   ]
  },
  {
   "cell_type": "markdown",
   "id": "dc14f722",
   "metadata": {},
   "source": [
    "### integers"
   ]
  },
  {
   "cell_type": "code",
   "execution_count": null,
   "id": "d1efeeb9",
   "metadata": {},
   "outputs": [],
   "source": [
    "# first code to reach 50 "
   ]
  },
  {
   "cell_type": "code",
   "execution_count": 1,
   "id": "0a0a6764",
   "metadata": {},
   "outputs": [],
   "source": [
    "x = 50 "
   ]
  },
  {
   "cell_type": "code",
   "execution_count": 2,
   "id": "80165fe6",
   "metadata": {},
   "outputs": [],
   "source": [
    "y = 50"
   ]
  },
  {
   "cell_type": "code",
   "execution_count": 4,
   "id": "6ba58a4e",
   "metadata": {},
   "outputs": [
    {
     "data": {
      "text/plain": [
       "100"
      ]
     },
     "execution_count": 4,
     "metadata": {},
     "output_type": "execute_result"
    }
   ],
   "source": [
    "x + y "
   ]
  },
  {
   "cell_type": "code",
   "execution_count": null,
   "id": "67952d4c",
   "metadata": {},
   "outputs": [],
   "source": [
    "# second code to reach 50"
   ]
  },
  {
   "cell_type": "code",
   "execution_count": 5,
   "id": "0f49e444",
   "metadata": {},
   "outputs": [
    {
     "data": {
      "text/plain": [
       "100"
      ]
     },
     "execution_count": 5,
     "metadata": {},
     "output_type": "execute_result"
    }
   ],
   "source": [
    "x + 51 - 1"
   ]
  },
  {
   "cell_type": "code",
   "execution_count": null,
   "id": "caeeae4d",
   "metadata": {},
   "outputs": [],
   "source": [
    "# third code to reach 50 "
   ]
  },
  {
   "cell_type": "code",
   "execution_count": 6,
   "id": "53673e2f",
   "metadata": {},
   "outputs": [
    {
     "data": {
      "text/plain": [
       "100"
      ]
     },
     "execution_count": 6,
     "metadata": {},
     "output_type": "execute_result"
    }
   ],
   "source": [
    "200 - 150 + x"
   ]
  },
  {
   "cell_type": "markdown",
   "id": "c91e8e7a",
   "metadata": {},
   "source": [
    "### floating-point variables"
   ]
  },
  {
   "cell_type": "code",
   "execution_count": 7,
   "id": "616f4afa",
   "metadata": {},
   "outputs": [],
   "source": [
    "x = 2.34\n",
    "y = 3.45"
   ]
  },
  {
   "cell_type": "code",
   "execution_count": 8,
   "id": "d4515341",
   "metadata": {},
   "outputs": [
    {
     "data": {
      "text/plain": [
       "0.6782608695652174"
      ]
     },
     "execution_count": 8,
     "metadata": {},
     "output_type": "execute_result"
    }
   ],
   "source": [
    "x / y "
   ]
  },
  {
   "cell_type": "markdown",
   "id": "279a321d",
   "metadata": {},
   "source": [
    "### strings"
   ]
  },
  {
   "cell_type": "code",
   "execution_count": 13,
   "id": "d338d95b",
   "metadata": {},
   "outputs": [],
   "source": [
    "x = 'butter'\n",
    "y = 'fly'"
   ]
  },
  {
   "cell_type": "code",
   "execution_count": 14,
   "id": "7b40b7a4",
   "metadata": {},
   "outputs": [
    {
     "data": {
      "text/plain": [
       "'butterfly'"
      ]
     },
     "execution_count": 14,
     "metadata": {},
     "output_type": "execute_result"
    }
   ],
   "source": [
    "x + y "
   ]
  },
  {
   "cell_type": "code",
   "execution_count": null,
   "id": "a58ca0f1",
   "metadata": {},
   "outputs": [],
   "source": [
    "# now for the 2 sentences"
   ]
  },
  {
   "cell_type": "code",
   "execution_count": null,
   "id": "3412871e",
   "metadata": {},
   "outputs": [],
   "source": [
    "# 01 Sentence"
   ]
  },
  {
   "cell_type": "code",
   "execution_count": 20,
   "id": "02d6d9d4",
   "metadata": {},
   "outputs": [],
   "source": [
    "x = 'Hello, '\n",
    "y = 'Clinton.'"
   ]
  },
  {
   "cell_type": "code",
   "execution_count": 21,
   "id": "3ccd9d16",
   "metadata": {},
   "outputs": [
    {
     "data": {
      "text/plain": [
       "'Hello, Clinton.'"
      ]
     },
     "execution_count": 21,
     "metadata": {},
     "output_type": "execute_result"
    }
   ],
   "source": [
    "x + y"
   ]
  },
  {
   "cell_type": "code",
   "execution_count": 26,
   "id": "a80ea6c3",
   "metadata": {},
   "outputs": [],
   "source": [
    "x = 'This '\n",
    "y = 'is my '\n",
    "z = 'last sentence.'"
   ]
  },
  {
   "cell_type": "code",
   "execution_count": 27,
   "id": "442a66e1",
   "metadata": {},
   "outputs": [
    {
     "data": {
      "text/plain": [
       "'This is my last sentence.'"
      ]
     },
     "execution_count": 27,
     "metadata": {},
     "output_type": "execute_result"
    }
   ],
   "source": [
    "x + y + z"
   ]
  }
 ],
 "metadata": {
  "kernelspec": {
   "display_name": "Python 3 (ipykernel)",
   "language": "python",
   "name": "python3"
  },
  "language_info": {
   "codemirror_mode": {
    "name": "ipython",
    "version": 3
   },
   "file_extension": ".py",
   "mimetype": "text/x-python",
   "name": "python",
   "nbconvert_exporter": "python",
   "pygments_lexer": "ipython3",
   "version": "3.9.13"
  }
 },
 "nbformat": 4,
 "nbformat_minor": 5
}
