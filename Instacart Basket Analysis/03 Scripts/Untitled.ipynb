{
 "cells": [
  {
   "cell_type": "code",
   "execution_count": 1,
   "id": "d48a07ee",
   "metadata": {},
   "outputs": [],
   "source": [
    "#Import libraries\n",
    "import pandas as pd\n",
    "import numpy as np\n",
    "import os"
   ]
  },
  {
   "cell_type": "code",
   "execution_count": 2,
   "id": "ee4c3c00",
   "metadata": {},
   "outputs": [],
   "source": [
    "# import orders.csv data set"
   ]
  },
  {
   "cell_type": "code",
   "execution_count": 3,
   "id": "7378e96f",
   "metadata": {},
   "outputs": [],
   "source": [
    "df_ords = pd.read_csv(r'/Users/malikpressley/Desktop/Achievement 4/Instacart Basket Analysis/02 Data/Original Data/orders.csv', index_col = False)"
   ]
  },
  {
   "cell_type": "code",
   "execution_count": 4,
   "id": "2a97261d",
   "metadata": {},
   "outputs": [],
   "source": [
    "#Turning project folder path into a string "
   ]
  },
  {
   "cell_type": "code",
   "execution_count": 5,
   "id": "13133c2a",
   "metadata": {},
   "outputs": [],
   "source": [
    "path = r'/Users/malikpressley/Desktop/Achievement 4/Instacart Basket Analysis'"
   ]
  },
  {
   "cell_type": "code",
   "execution_count": 6,
   "id": "c2f31cd7",
   "metadata": {},
   "outputs": [],
   "source": [
    "# using path variable to import “orders.csv” with the os library."
   ]
  },
  {
   "cell_type": "code",
   "execution_count": 7,
   "id": "9b450950",
   "metadata": {},
   "outputs": [],
   "source": [
    "df_ords = pd.read_csv(os.path.join(path, '02 Data', 'Original Data', 'orders.csv'), index_col = False)"
   ]
  },
  {
   "cell_type": "markdown",
   "id": "8bac4b3a",
   "metadata": {},
   "source": [
    "## Importing Products Data Set"
   ]
  },
  {
   "cell_type": "code",
   "execution_count": 8,
   "id": "022380df",
   "metadata": {},
   "outputs": [],
   "source": [
    "# import products.csv data set"
   ]
  },
  {
   "cell_type": "code",
   "execution_count": 9,
   "id": "3c7ca7e1",
   "metadata": {},
   "outputs": [],
   "source": [
    "path = r'/Users/malikpressley/Desktop/Achievement 4/Instacart Basket Analysis'"
   ]
  },
  {
   "cell_type": "code",
   "execution_count": 10,
   "id": "5dec612d",
   "metadata": {},
   "outputs": [],
   "source": [
    "# using path variable to import “products.csv” with the os library."
   ]
  },
  {
   "cell_type": "code",
   "execution_count": 11,
   "id": "45f5de45",
   "metadata": {},
   "outputs": [],
   "source": [
    "df_prods = pd.read_csv(os.path.join(path, '02 Data', 'Original Data', 'products.csv'), index_col = False)"
   ]
  },
  {
   "cell_type": "code",
   "execution_count": null,
   "id": "3ab5438c",
   "metadata": {},
   "outputs": [],
   "source": []
  }
 ],
 "metadata": {
  "kernelspec": {
   "display_name": "Python 3 (ipykernel)",
   "language": "python",
   "name": "python3"
  },
  "language_info": {
   "codemirror_mode": {
    "name": "ipython",
    "version": 3
   },
   "file_extension": ".py",
   "mimetype": "text/x-python",
   "name": "python",
   "nbconvert_exporter": "python",
   "pygments_lexer": "ipython3",
   "version": "3.9.13"
  }
 },
 "nbformat": 4,
 "nbformat_minor": 5
}
